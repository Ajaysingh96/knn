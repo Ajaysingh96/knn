{
  "nbformat": 4,
  "nbformat_minor": 0,
  "metadata": {
    "colab": {
      "name": "knn.ipynb",
      "version": "0.3.2",
      "provenance": []
    },
    "kernelspec": {
      "name": "python3",
      "display_name": "Python 3"
    }
  },
  "cells": [
    {
      "metadata": {
        "id": "l3YW_T3kIaw4",
        "colab_type": "code",
        "colab": {}
      },
      "cell_type": "code",
      "source": [
        "from sklearn import datasets\n",
        "import numpy as np\n",
        "from sklearn.model_selection import train_test_split\n",
        "import matplotlib.pyplot as plt"
      ],
      "execution_count": 0,
      "outputs": []
    },
    {
      "metadata": {
        "id": "U4lwVIfjInT7",
        "colab_type": "code",
        "colab": {}
      },
      "cell_type": "code",
      "source": [
        "iris = datasets.load_iris()\n",
        "x = iris.data[:,0:4]\n",
        "y = iris.target\n"
      ],
      "execution_count": 0,
      "outputs": []
    },
    {
      "metadata": {
        "id": "GiZJ0mULIuPD",
        "colab_type": "code",
        "colab": {
          "base_uri": "https://localhost:8080/",
          "height": 34
        },
        "outputId": "26224cdc-6b6f-495d-fd62-2d759107ef19"
      },
      "cell_type": "code",
      "source": [
        "x_train,x_test, y_train, y_test = train_test_split(x, y,test_size=0.33,stratify=y)\n",
        "y_train.shape,y_test.shape"
      ],
      "execution_count": 3,
      "outputs": [
        {
          "output_type": "execute_result",
          "data": {
            "text/plain": [
              "((100,), (50,))"
            ]
          },
          "metadata": {
            "tags": []
          },
          "execution_count": 3
        }
      ]
    },
    {
      "metadata": {
        "id": "Q_3rSHYhI6VB",
        "colab_type": "code",
        "colab": {
          "base_uri": "https://localhost:8080/",
          "height": 34
        },
        "outputId": "3b3fe237-fcb2-4532-85a8-7293f63b1605"
      },
      "cell_type": "code",
      "source": [
        "kn=[1,3,5,7,9,11,13,15,17,19,21]\n",
        "a=[]\n",
        "for k in kn:\n",
        "    dummy=[]\n",
        "    for x in x_test:\n",
        "        eqdist = np.power(x_train-x,2)\n",
        "        #print(eqdist)\n",
        "    #print(eqdist)\n",
        "        sort=np.argsort(eqdist,axis=0)[:k]\n",
        "        y1=y_train[sort]\n",
        "        number,count = np.unique(y1,return_counts=True)\n",
        "        dummy=np.append(dummy,np.argmax(count))\n",
        "    a.append((sum(dummy==y_test)/len(y_test))*100)\n",
        "print(a)"
      ],
      "execution_count": 9,
      "outputs": [
        {
          "output_type": "stream",
          "text": [
            "[48.0, 62.0, 68.0, 78.0, 82.0, 84.0, 86.0, 88.0, 90.0, 92.0, 92.0]\n"
          ],
          "name": "stdout"
        }
      ]
    },
    {
      "metadata": {
        "id": "BqXTRZRwI8LT",
        "colab_type": "code",
        "colab": {}
      },
      "cell_type": "code",
      "source": [
        ""
      ],
      "execution_count": 0,
      "outputs": []
    }
  ]
}